{
 "cells": [
  {
   "cell_type": "markdown",
   "metadata": {
    "id": "Q9h9A9g4WeY_"
   },
   "source": [
    "#Лабораторна робота №3. Дослiдження варiантiв архiтектур згроткових нейронних мереж"
   ]
  },
  {
   "cell_type": "markdown",
   "metadata": {
    "id": "RvnyGb2oW2NY"
   },
   "source": [
    "**Виконала** студентка групи КІ-41мп Додонова Марія"
   ]
  },
  {
   "cell_type": "markdown",
   "metadata": {
    "id": "qzNKBronXA6P"
   },
   "source": [
    "**Мета:** Вивчення iснуючих варiантiв архiтектур згорткових нейронних мереж та їх порiвняння."
   ]
  },
  {
   "cell_type": "markdown",
   "metadata": {
    "id": "z8_VMk6DXLlT"
   },
   "source": [
    "## Порядок виконання"
   ]
  },
  {
   "cell_type": "markdown",
   "metadata": {
    "id": "zmWcUkVeXPVy"
   },
   "source": [
    "1. Обрати фреймворк для виконання роботи: tensorflow чи pytorch.\n",
    "\n",
    "2. Взяти задачу i вiдповiдний датасет з 2-ї лабораторної роботи.\n",
    "\n",
    "3. Завантажити, виконати попередню обробку та роздiлити датасет на тренувальну, валiдацiйну та тестову вибiрки.\n",
    "\n",
    "4. Реалiзувати з нуля 2 вiдомi архiтектури для вирiшення задачi класи-\n",
    "фiкацiї/регресiї:\n",
    "\n",
    "* VGGNet;\n",
    "* Inception (v1-v4);\n",
    "* Inception-ResNet-v2;\n",
    "* ResNet;\n",
    "* Xception;\n",
    "* Будь-яку iншу за посиланням.\n",
    "\n",
    "Пiд реалiзацiєю з нуля розумiється використання готових шарiв (Conv2d, MaxPool2d та iншi) з вiдповiдних бiблiотек/фреймворкiв.\n",
    "\n",
    "5. Навчити побудованi мережi на завантаженому датасетi. Дуже рекомендується навчати моделi на GPU. Якщо у вас немає CUDA-сумiсної вiдеокарти, використовуйте Google Colab.\n",
    "\n",
    "6. Побудувати графiки навчання (loss та точнiсть) мережi на тренувальнiй на валiдацiйнiй вибiрках. Проаналiзувати отриманi результати, виконати порiвняння моделей мiж собою та з моделлю з попередньої роботи, зробити висновки.\n"
   ]
  },
  {
   "cell_type": "markdown",
   "metadata": {
    "id": "FH5eCl4VXwrL"
   },
   "source": [
    "## Виконання роботи"
   ]
  },
  {
   "cell_type": "markdown",
   "metadata": {
    "id": "wRKiXTD5X1qf"
   },
   "source": [
    "### 1. Обрати фреймворк для виконання роботи: tensorflow чи pytorch."
   ]
  },
  {
   "cell_type": "code",
   "execution_count": 2,
   "metadata": {
    "id": "mn9TJaGIX97z"
   },
   "outputs": [],
   "source": [
    "import torch\n",
    "import torch.nn as nn\n",
    "import torch.optim as optim\n",
    "from torchvision import datasets, transforms\n",
    "from torch.utils.data import DataLoader, random_split\n",
    "import matplotlib.pyplot as plt"
   ]
  },
  {
   "cell_type": "code",
   "execution_count": 3,
   "metadata": {
    "id": "GAO7NCEuTLlC"
   },
   "outputs": [],
   "source": [
    "params = {\n",
    "    \"batch_size\": 64,\n",
    "    \"lr\": 0.001,\n",
    "    \"epochs\": 10\n",
    "}"
   ]
  },
  {
   "cell_type": "markdown",
   "metadata": {
    "id": "HYD33NLfX_9d"
   },
   "source": [
    "### 2. Взяти задачу i вiдповiдний датасет з 2-ї лабораторної роботи."
   ]
  },
  {
   "cell_type": "markdown",
   "metadata": {
    "id": "1adjjeusYFmp"
   },
   "source": [
    "### 3. Завантажити, предобробити та роздiлити датасет на тренувальну, валiдацiйну та тестову вибiрки."
   ]
  },
  {
   "cell_type": "code",
   "execution_count": 4,
   "metadata": {
    "id": "IRYeqLpsgBW7"
   },
   "outputs": [],
   "source": [
    "transform = transforms.Compose([\n",
    "    transforms.Resize((32, 32)),\n",
    "    transforms.ToTensor(),\n",
    "    transforms.Normalize((0.5,), (0.5,)) # mean=0.5 and std=0.5\n",
    "])\n",
    "\n",
    "train_dataset = datasets.FashionMNIST(\n",
    "    \"..\\\\data\",\n",
    "    train=True,\n",
    "    download=True,\n",
    "    transform=transform\n",
    ")\n",
    "\n",
    "test_dataset = datasets.FashionMNIST(\n",
    "    root=\"..\\\\data\",\n",
    "    train=False,\n",
    "    download=True,\n",
    "    transform=transform\n",
    ")\n",
    "\n",
    "train_dataset, val_dataset = random_split(train_dataset, [0.8, 0.2])"
   ]
  },
  {
   "cell_type": "code",
   "execution_count": 6,
   "metadata": {
    "id": "0nlz3KBTfxbI"
   },
   "outputs": [],
   "source": [
    "train_loader = DataLoader(train_dataset, batch_size=params[\"batch_size\"], shuffle=True, num_workers=4)\n",
    "val_loader = DataLoader(val_dataset, batch_size=params[\"batch_size\"], shuffle=False, num_workers=4)\n",
    "test_loader = DataLoader(test_dataset, batch_size=params[\"batch_size\"], shuffle=False, num_workers=4)"
   ]
  },
  {
   "cell_type": "markdown",
   "metadata": {
    "id": "_-d6cFInYJNg"
   },
   "source": [
    "### 4. Реалiзувати з нуля 2 вiдомi архiтектури для вирiшення задачi класи- фiкацiї/регресiї:\n",
    "\n",
    "* VGGNet;\n",
    "* Inception (v1-v4);\n",
    "* Inception-ResNet-v2;\n",
    "* ResNet;\n",
    "* Xception;\n",
    "* Будь-яку iншу за посиланням.\n",
    "\n",
    "Пiд реалiзацiєю з нуля розумiється використання готових шарiв (Conv2d, MaxPool2d та iншi) з вiдповiдних бiблiотек/фреймворкiв."
   ]
  },
  {
   "cell_type": "code",
   "execution_count": 7,
   "metadata": {
    "id": "oqBXalwwfyk4"
   },
   "outputs": [],
   "source": [
    "class VGGNet(nn.Module):\n",
    "\n",
    "  def __init__(self):\n",
    "    super(VGGNet, self).__init__()\n",
    "    self.features = nn.Sequential(\n",
    "        nn.Conv2d(1, 64, kernel_size=3, padding=1),\n",
    "        nn.ReLU(),\n",
    "        nn.MaxPool2d(kernel_size=2, stride=2),\n",
    "\n",
    "        nn.Conv2d(64, 128, kernel_size=3, padding=1),\n",
    "        nn.ReLU(),\n",
    "        nn.MaxPool2d(kernel_size=2, stride=2),\n",
    "\n",
    "        nn.Conv2d(128, 256, kernel_size=3, padding=1),\n",
    "        nn.ReLU(),\n",
    "        nn.Conv2d(256, 256, kernel_size=3, padding=1),\n",
    "        nn.ReLU(),\n",
    "        nn.MaxPool2d(kernel_size=2, stride=2),\n",
    "\n",
    "        nn.Conv2d(256, 512, kernel_size=3, padding=1),\n",
    "        nn.ReLU(),\n",
    "        nn.Conv2d(512, 512, kernel_size=3, padding=1),\n",
    "        nn.ReLU(),\n",
    "        nn.MaxPool2d(kernel_size=2, stride=2),\n",
    "\n",
    "        nn.Conv2d(512, 512, kernel_size=3, padding=1),\n",
    "        nn.ReLU(),\n",
    "        nn.Conv2d(512, 512, kernel_size=3, padding=1),\n",
    "        nn.ReLU(),\n",
    "        nn.MaxPool2d(kernel_size=2, stride=2)\n",
    "    )\n",
    "\n",
    "    self.classifier = nn.Sequential(\n",
    "        nn.Flatten(),\n",
    "        nn.Linear(1 * 1 * 512, 4096),\n",
    "        nn.ReLU(),\n",
    "        nn.Dropout(),\n",
    "        nn.Linear(4096, 4096),\n",
    "        nn.ReLU(),\n",
    "        nn.Dropout(),\n",
    "        nn.Linear(4096, 10)\n",
    "    )\n",
    "\n",
    "  def forward(self, x):\n",
    "    x = self.features(x)\n",
    "    x = self.classifier(x)\n",
    "    return x"
   ]
  },
  {
   "cell_type": "code",
   "execution_count": 8,
   "metadata": {
    "id": "dvGVDnSygN7f"
   },
   "outputs": [],
   "source": [
    "class ResBlock(nn.Module):\n",
    "\n",
    "  def __init__(self, in_channels, out_channels, stride=1):\n",
    "    super(ResBlock, self).__init__()\n",
    "    self.conv1 = nn.Conv2d(in_channels, out_channels, kernel_size=3, stride=stride, padding=1)\n",
    "    self.bn1 = nn.BatchNorm2d(out_channels)\n",
    "    self.relu = nn.ReLU()\n",
    "\n",
    "    self.conv2 = nn.Conv2d(out_channels, out_channels, kernel_size=3, stride=1, padding=1)\n",
    "    self.bn2 = nn.BatchNorm2d(out_channels)\n",
    "\n",
    "    self.skip = nn.Sequential()\n",
    "    if stride != 1 or in_channels != out_channels:\n",
    "      self.skip = nn.Sequential(\n",
    "          nn.Conv2d(in_channels, out_channels, kernel_size=1, stride=stride),\n",
    "          nn.BatchNorm2d(out_channels)\n",
    "      )\n",
    "\n",
    "  def forward(self, x):\n",
    "    identity = self.skip(x)\n",
    "\n",
    "    output = self.conv1(x)\n",
    "    output = self.bn1(output)\n",
    "    output = self.relu(output)\n",
    "\n",
    "    output = self.conv2(output)\n",
    "    output = self.bn2(output)\n",
    "\n",
    "    output += identity\n",
    "    output = self.relu(output)\n",
    "\n",
    "    return output\n",
    "\n",
    "\n",
    "class ResNet(nn.Module):\n",
    "\n",
    "  def __init__(self):\n",
    "    super(ResNet, self).__init__()\n",
    "    self.initial = nn.Sequential(\n",
    "        nn.Conv2d(1, 64, kernel_size=7, stride=2, padding=3),\n",
    "        nn.BatchNorm2d(64),\n",
    "        nn.ReLU(),\n",
    "        nn.MaxPool2d(kernel_size=3, stride=2, padding=1)\n",
    "    )\n",
    "\n",
    "    self.layer1 = self.make_layer(64, 64, 2, stride=1)\n",
    "    self.layer2 = self.make_layer(64, 128, 2, stride=2)\n",
    "    self.layer3 = self.make_layer(128, 256, 2, stride=2)\n",
    "    self.layer4 = self.make_layer(256, 512, 2, stride=2)\n",
    "\n",
    "    self.classifier = nn.Sequential(\n",
    "        nn.Flatten(),\n",
    "        nn.Linear(512, 10)\n",
    "    )\n",
    "\n",
    "  def make_layer(self, in_channels, out_channels, num_blocks, stride):\n",
    "    layers = []\n",
    "    layers.append(ResBlock(in_channels, out_channels, stride))\n",
    "    for _ in range(1, num_blocks):\n",
    "      layers.append(ResBlock(out_channels, out_channels))\n",
    "    return nn.Sequential(*layers)\n",
    "\n",
    "  def forward(self, x):\n",
    "    x = self.initial(x)\n",
    "\n",
    "    x = self.layer1(x)\n",
    "    x = self.layer2(x)\n",
    "    x = self.layer3(x)\n",
    "    x = self.layer4(x)\n",
    "\n",
    "    x = self.classifier(x)\n",
    "\n",
    "    return x"
   ]
  },
  {
   "cell_type": "markdown",
   "metadata": {
    "id": "1MaPgkvEYRjV"
   },
   "source": [
    "### 5. Навчити побудованi мережi на завантаженому датасетi. Дуже рекомендується навчати моделi на GPU. Якщо у вас немає CUDA-сумiсної вiдеокарти, використовуйте Google Colab.\n"
   ]
  },
  {
   "cell_type": "code",
   "execution_count": 9,
   "metadata": {
    "id": "hxaregynKqeT"
   },
   "outputs": [],
   "source": [
    "def train(model, optimizer, criterion, device=\"cpu\"):\n",
    "  model = model.to(device)\n",
    "  model.train()\n",
    "  running_loss = 0.0\n",
    "  correct, total = 0, 0\n",
    "\n",
    "  for images, labels in train_loader:\n",
    "    images, labels = images.to(device), labels.to(device)\n",
    "\n",
    "    optimizer.zero_grad()\n",
    "    outputs = model(images)\n",
    "    loss = criterion(outputs, labels)\n",
    "    loss.backward()\n",
    "    optimizer.step()\n",
    "\n",
    "    running_loss += loss.item()\n",
    "\n",
    "    _, predicted = torch.max(outputs.data, 1)\n",
    "    total += labels.size(0)\n",
    "    correct += (predicted == labels).sum().item()\n",
    "\n",
    "  train_loss = running_loss / len(train_loader)\n",
    "  train_accuracy = correct / total\n",
    "\n",
    "  return train_loss, train_accuracy\n",
    "\n",
    "\n",
    "def validate(model, optimizer, criterion, device=\"cpu\"):\n",
    "  model = model.to(device)\n",
    "  model.eval()\n",
    "  running_loss = 0.0\n",
    "  correct, total = 0, 0\n",
    "\n",
    "  with torch.no_grad():\n",
    "    for images, labels in val_loader:\n",
    "      images, labels = images.to(device), labels.to(device)\n",
    "      outputs = model(images)\n",
    "      loss = criterion(outputs, labels)\n",
    "\n",
    "      running_loss += loss.item()\n",
    "\n",
    "      _, predicted = torch.max(outputs.data, 1)\n",
    "      total += labels.size(0)\n",
    "      correct += (predicted == labels).sum().item()\n",
    "\n",
    "  val_loss = running_loss / len(val_loader)\n",
    "  val_accuracy = correct / total\n",
    "\n",
    "  return val_loss, val_accuracy"
   ]
  },
  {
   "cell_type": "code",
   "execution_count": 10,
   "metadata": {
    "id": "cD0f7vIPVFz-"
   },
   "outputs": [
    {
     "name": "stdout",
     "output_type": "stream",
     "text": [
      "Using device: cuda\n"
     ]
    }
   ],
   "source": [
    "# Set device and criterion\n",
    "\n",
    "device = torch.device(\"cuda\" if torch.cuda.is_available() else \"cpu\")\n",
    "criterion = nn.CrossEntropyLoss()\n",
    "\n",
    "print(f\"Using device: {device}\")"
   ]
  },
  {
   "cell_type": "code",
   "execution_count": 11,
   "metadata": {
    "colab": {
     "base_uri": "https://localhost:8080/"
    },
    "executionInfo": {
     "elapsed": 356241,
     "status": "ok",
     "timestamp": 1733165476932,
     "user": {
      "displayName": "Mariia Dodonova",
      "userId": "17823790577590824865"
     },
     "user_tz": -120
    },
    "id": "GGnb_pHCK2au",
    "outputId": "8c3c62c8-e2fa-47cb-dd97-e24df08064f3"
   },
   "outputs": [
    {
     "name": "stdout",
     "output_type": "stream",
     "text": [
      "Training VGGNet:\n",
      "Epoch [1/10]: Train Loss: 0.8325, Val Loss: 0.4405, Train Accuracy: 0.6668, Val Accuracy: 0.8451.\n",
      "Epoch [2/10]: Train Loss: 0.4032, Val Loss: 0.3587, Train Accuracy: 0.8585, Val Accuracy: 0.8720.\n",
      "Epoch [3/10]: Train Loss: 0.3336, Val Loss: 0.3124, Train Accuracy: 0.8833, Val Accuracy: 0.8877.\n",
      "Epoch [4/10]: Train Loss: 0.2988, Val Loss: 0.2920, Train Accuracy: 0.8988, Val Accuracy: 0.8930.\n",
      "Epoch [5/10]: Train Loss: 0.2774, Val Loss: 0.2999, Train Accuracy: 0.9043, Val Accuracy: 0.8913.\n",
      "Epoch [6/10]: Train Loss: 0.2540, Val Loss: 0.3182, Train Accuracy: 0.9133, Val Accuracy: 0.8924.\n",
      "Epoch [7/10]: Train Loss: 0.2384, Val Loss: 0.2885, Train Accuracy: 0.9176, Val Accuracy: 0.8999.\n",
      "Epoch [8/10]: Train Loss: 0.2225, Val Loss: 0.2883, Train Accuracy: 0.9233, Val Accuracy: 0.9020.\n",
      "Epoch [9/10]: Train Loss: 0.2107, Val Loss: 0.2874, Train Accuracy: 0.9261, Val Accuracy: 0.9046.\n",
      "Epoch [10/10]: Train Loss: 0.2117, Val Loss: 0.3055, Train Accuracy: 0.9265, Val Accuracy: 0.9002.\n",
      "Finished Training!\n"
     ]
    }
   ],
   "source": [
    "# Create and train VGGNet\n",
    "\n",
    "vgg_model = VGGNet()\n",
    "vgg_optimizer = optim.Adam(vgg_model.parameters(), lr=params[\"lr\"])\n",
    "\n",
    "vgg_train_losses, vgg_train_accuracies = [], []\n",
    "vgg_val_losses, vgg_val_accuracies = [], []\n",
    "\n",
    "print(\"Training VGGNet:\")\n",
    "for epoch in range(params[\"epochs\"]):\n",
    "  train_loss, train_accuracy = train(vgg_model, vgg_optimizer, criterion, device)\n",
    "  val_loss, val_accuracy = validate(vgg_model, vgg_optimizer, criterion, device)\n",
    "\n",
    "  vgg_train_losses.append(train_loss)\n",
    "  vgg_train_accuracies.append(train_accuracy)\n",
    "  vgg_val_losses.append(val_loss)\n",
    "  vgg_val_accuracies.append(val_accuracy)\n",
    "\n",
    "  print(f\"Epoch [{epoch+1}/{params['epochs']}]: Train Loss: {train_loss:.4f}, Val Loss: {val_loss:.4f},\", \\\n",
    "        f\"Train Accuracy: {train_accuracy:.4f}, Val Accuracy: {val_accuracy:.4f}.\")\n",
    "\n",
    "print(\"Finished Training!\")"
   ]
  },
  {
   "cell_type": "code",
   "execution_count": 12,
   "metadata": {
    "colab": {
     "base_uri": "https://localhost:8080/"
    },
    "executionInfo": {
     "elapsed": 332050,
     "status": "ok",
     "timestamp": 1733165824497,
     "user": {
      "displayName": "Mariia Dodonova",
      "userId": "17823790577590824865"
     },
     "user_tz": -120
    },
    "id": "5qaEzVLsMiBP",
    "outputId": "66cb691a-0876-42e6-8163-239daa0a1563"
   },
   "outputs": [
    {
     "name": "stdout",
     "output_type": "stream",
     "text": [
      "Training ResNet:\n",
      "Epoch [1/10]: Train Loss: 0.4551, Val Loss: 0.3291, Train Accuracy: 0.8340, Val Accuracy: 0.8796.\n",
      "Epoch [2/10]: Train Loss: 0.3183, Val Loss: 0.3863, Train Accuracy: 0.8828, Val Accuracy: 0.8672.\n",
      "Epoch [3/10]: Train Loss: 0.2820, Val Loss: 0.2901, Train Accuracy: 0.8943, Val Accuracy: 0.8944.\n",
      "Epoch [4/10]: Train Loss: 0.2561, Val Loss: 0.2914, Train Accuracy: 0.9060, Val Accuracy: 0.8922.\n",
      "Epoch [5/10]: Train Loss: 0.2315, Val Loss: 0.2794, Train Accuracy: 0.9140, Val Accuracy: 0.8988.\n",
      "Epoch [6/10]: Train Loss: 0.2114, Val Loss: 0.2512, Train Accuracy: 0.9213, Val Accuracy: 0.9072.\n",
      "Epoch [7/10]: Train Loss: 0.1997, Val Loss: 0.2653, Train Accuracy: 0.9258, Val Accuracy: 0.9043.\n",
      "Epoch [8/10]: Train Loss: 0.1830, Val Loss: 0.2467, Train Accuracy: 0.9323, Val Accuracy: 0.9110.\n",
      "Epoch [9/10]: Train Loss: 0.1743, Val Loss: 0.2559, Train Accuracy: 0.9355, Val Accuracy: 0.9099.\n",
      "Epoch [10/10]: Train Loss: 0.1520, Val Loss: 0.2556, Train Accuracy: 0.9432, Val Accuracy: 0.9124.\n",
      "Finished Training!\n"
     ]
    }
   ],
   "source": [
    "# Create and train ResNet\n",
    "\n",
    "resnet_model = ResNet()\n",
    "resnet_optimizer = optim.Adam(resnet_model.parameters(), lr=params[\"lr\"])\n",
    "\n",
    "resnet_train_losses, resnet_train_accuracies = [], []\n",
    "resnet_val_losses, resnet_val_accuracies = [], []\n",
    "\n",
    "print(\"Training ResNet:\")\n",
    "for epoch in range(params[\"epochs\"]):\n",
    "  train_loss, train_accuracy = train(resnet_model, resnet_optimizer, criterion, device)\n",
    "  val_loss, val_accuracy = validate(resnet_model, resnet_optimizer, criterion, device)\n",
    "\n",
    "  resnet_train_losses.append(train_loss)\n",
    "  resnet_train_accuracies.append(train_accuracy)\n",
    "  resnet_val_losses.append(val_loss)\n",
    "  resnet_val_accuracies.append(val_accuracy)\n",
    "\n",
    "  print(f\"Epoch [{epoch+1}/{params['epochs']}]: Train Loss: {train_loss:.4f}, Val Loss: {val_loss:.4f},\", \\\n",
    "        f\"Train Accuracy: {train_accuracy:.4f}, Val Accuracy: {val_accuracy:.4f}.\")\n",
    "\n",
    "print(\"Finished Training!\")"
   ]
  },
  {
   "cell_type": "markdown",
   "metadata": {
    "id": "f1nnw2FpYVck"
   },
   "source": [
    "### 6. Побудувати графiки навчання (loss та точнiсть) мережi на тренувальнiй на валiдацiйнiй вибiрках. Проаналiзувати отриманi результати, виконати порiвняння моделей мiж собою та з моделлю з попередньої роботи, зробити висновки."
   ]
  },
  {
   "cell_type": "code",
   "execution_count": 13,
   "metadata": {
    "id": "SCMhY_w9f269"
   },
   "outputs": [],
   "source": [
    "def plot(model, train_losses, val_losses, train_accuracies, val_accuracies):\n",
    "  plt.figure(figsize=(10, 3))\n",
    "\n",
    "  # Loss Curve\n",
    "  plt.subplot(1, 2, 1)\n",
    "  plt.plot(train_losses, label=\"Train Loss\")\n",
    "  plt.plot(val_losses, label=\"Validation Loss\")\n",
    "  plt.title(f\"{model} Loss Curve\")\n",
    "  plt.xlabel(\"Epochs\")\n",
    "  plt.ylabel(\"Loss\")\n",
    "  plt.legend()\n",
    "\n",
    "  # Accuracy Curve\n",
    "  plt.subplot(1, 2, 2)\n",
    "  plt.plot(train_accuracies, label=\"Train Accuracy\")\n",
    "  plt.plot(val_accuracies, label=\"Validation Accuracy\")\n",
    "  plt.title(f\"{model} Accuracy Curve\")\n",
    "  plt.xlabel(\"Epochs\")\n",
    "  plt.ylabel(\"Accuracy\")\n",
    "  plt.legend()\n",
    "\n",
    "  plt.show()"
   ]
  },
  {
   "cell_type": "code",
   "execution_count": 14,
   "metadata": {
    "colab": {
     "base_uri": "https://localhost:8080/",
     "height": 496
    },
    "executionInfo": {
     "elapsed": 1143,
     "status": "ok",
     "timestamp": 1733165839872,
     "user": {
      "displayName": "Mariia Dodonova",
      "userId": "17823790577590824865"
     },
     "user_tz": -120
    },
    "id": "2Z0-uqtYd_ru",
    "outputId": "8592ef5f-807b-48df-f43b-2f665df62ada"
   },
   "outputs": [
    {
     "data": {
      "image/png": "[encoded data removed]",
      "text/plain": [
       "<Figure size 1000x300 with 2 Axes>"
      ]
     },
     "metadata": {},
     "output_type": "display_data"
    },
    {
     "data": {
      "image/png": "[encoded data removed]",
      "text/plain": [
       "<Figure size 1000x300 with 2 Axes>"
      ]
     },
     "metadata": {},
     "output_type": "display_data"
    }
   ],
   "source": [
    "plot(\n",
    "    \"VGGNet\",\n",
    "    vgg_train_losses,\n",
    "    vgg_val_losses,\n",
    "    vgg_train_accuracies,\n",
    "    vgg_val_accuracies\n",
    ")\n",
    "plot(\n",
    "    \"ResNet\",\n",
    "    resnet_train_losses,\n",
    "    resnet_val_losses,\n",
    "    resnet_train_accuracies,\n",
    "    resnet_val_accuracies\n",
    ")"
   ]
  },
  {
   "cell_type": "markdown",
   "metadata": {
    "id": "HEXG0pErYZyD"
   },
   "source": [
    "## Висновок"
   ]
  },
  {
   "cell_type": "markdown",
   "metadata": {
    "id": "aT3tKA2aYhyF"
   },
   "source": [
    "В ході виконання роботи було завантажено, передоброблено та розділено датасет FashionMNIST на тренувальну, валідаційну та тестову вибірки, реалізовано архітектури згорткових нейронних мереж VGGNet та ResNet. Було навчено мережі на завантаженому датасеті з використанням різних гіперпараметрів та побудовано графіки навчання мереж.\n",
    "\n",
    "Проаналізувавши графіки loss та accuracy для різних мереж VGGNet та ResNet, можна зробити висновок, що ResNet демонструє найкращі результати завдяки своїй здатності уникати проблеми затухання градієнтів. Вона досягає найвищої точності на навчальній і валідаційній вибірках (94.1% і 91.9% відповідно) та має найнижчу валідаційну втрату. VGGNet поступається ResNet у точності, проте є гарним вибором для задач середньої складності, забезпечуючи стабільне узагальнення. Мережа LeNet, розглянута у попередній роботі, показує найгірші результати серед трьох мереж через свою простоту, але залишається ефективною для задач із низькою обчислювальною складністю."
   ]
  }
 ],
 "metadata": {
  "accelerator": "GPU",
  "colab": {
   "authorship_tag": "ABX9TyNJkSjTdRHucNgvzFSmOw+o",
   "collapsed_sections": [
    "z8_VMk6DXLlT"
   ],
   "gpuType": "T4",
   "mount_file_id": "1vT1WJJbCUQQRH440oB1Qg8oleDwbkhBi",
   "provenance": [
    {
     "file_id": "1p86IQ13AuUlL447SF636iKsY5nbrQaEw",
     "timestamp": 1732983092087
    }
   ]
  },
  "kernelspec": {
   "display_name": "iasa-computer-vision-env",
   "language": "python",
   "name": "python3"
  },
  "language_info": {
   "codemirror_mode": {
    "name": "ipython",
    "version": 3
   },
   "file_extension": ".py",
   "mimetype": "text/x-python",
   "name": "python",
   "nbconvert_exporter": "python",
   "pygments_lexer": "ipython3",
   "version": "3.11.13"
  }
 },
 "nbformat": 4,
 "nbformat_minor": 0
}
